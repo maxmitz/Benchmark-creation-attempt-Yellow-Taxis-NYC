{
 "cells": [
  {
   "cell_type": "code",
   "execution_count": 1,
   "metadata": {},
   "outputs": [
    {
     "ename": "ModuleNotFoundError",
     "evalue": "No module named 'geopandas'",
     "output_type": "error",
     "traceback": [
      "\u001b[1;31m---------------------------------------------------------------------------\u001b[0m",
      "\u001b[1;31mModuleNotFoundError\u001b[0m                       Traceback (most recent call last)",
      "\u001b[1;32m<ipython-input-1-d4503051a3b6>\u001b[0m in \u001b[0;36m<module>\u001b[1;34m\u001b[0m\n\u001b[1;32m----> 1\u001b[1;33m \u001b[1;32mimport\u001b[0m \u001b[0mgeopandas\u001b[0m \u001b[1;32mas\u001b[0m \u001b[0mgpd\u001b[0m\u001b[1;33m\u001b[0m\u001b[1;33m\u001b[0m\u001b[0m\n\u001b[0m\u001b[0;32m      2\u001b[0m \u001b[1;32mimport\u001b[0m \u001b[0mpandas\u001b[0m \u001b[1;32mas\u001b[0m \u001b[0mpd\u001b[0m\u001b[1;33m\u001b[0m\u001b[1;33m\u001b[0m\u001b[0m\n\u001b[0;32m      3\u001b[0m \u001b[1;32mfrom\u001b[0m \u001b[0mshapely\u001b[0m\u001b[1;33m.\u001b[0m\u001b[0mgeometry\u001b[0m \u001b[1;32mimport\u001b[0m \u001b[0mPoint\u001b[0m\u001b[1;33m\u001b[0m\u001b[1;33m\u001b[0m\u001b[0m\n\u001b[0;32m      4\u001b[0m \u001b[1;32mimport\u001b[0m \u001b[0mfolium\u001b[0m\u001b[1;33m\u001b[0m\u001b[1;33m\u001b[0m\u001b[0m\n\u001b[0;32m      5\u001b[0m \u001b[1;33m\u001b[0m\u001b[0m\n",
      "\u001b[1;31mModuleNotFoundError\u001b[0m: No module named 'geopandas'"
     ]
    }
   ],
   "source": [
    "import geopandas as gpd\n",
    "import pandas as pd\n",
    "from shapely.geometry import Point\n",
    "import folium\n",
    "\n",
    "\n",
    "gdf_zone = gpd.read_file(\"geo_export_598e78be-0ee9-47df-850e-a86813ed961b.shp\")\n",
    "\n",
    "def which_locationID(lat,lon):\n",
    "    pt = Point(lon,lat)\n",
    "    zone_found = gdf_zone[gdf_zone.contains(pt)]\n",
    "    if len(zone_found) > 0:\n",
    "        return zone_found.iloc[0].location_i\n",
    "    return None\n",
    "\n",
    "gdf_zone.head()\n",
    "\n",
    "\n",
    "#PULocationID, DOLocationID\n",
    "\n",
    "df_shops[\"location_id\"] = df_shops.apply(lambda  row: which_locationID(row.lat,row.long), axis=1)\n",
    "\n",
    "def coordinates_to_area(year): \n",
    "    if (os.path.isfile(year + 'a_Yellow_Taxi_Trip_Data.csv')):\n",
    "        os.remove(year + 'a_Yellow_Taxi_Trip_Data.csv')\n",
    "    chunksize = 1000\n",
    "    i = 0\n",
    "    header = True\n",
    "\n",
    "    for chunk in pd.read_csv(year + '_Yellow_Taxi_Trip_Data.csv', chunksize = chunksize):\n",
    "        counter = 0\n",
    "        print(i)\n",
    "        while (counter < chunksize):\n",
    "            \n",
    "            try:\n",
    "                chunk['PULocationID'] = chunk.apply(lambda row: whichlocationID())\n",
    "                chunk['DOLocationID'] = \n",
    "\n",
    "                # Check if zones are equal\n",
    "                if (startzone == endzone):        \n",
    "                    chunk = chunk.drop([i])\n",
    "            except:\n",
    "                pass\n",
    "\n",
    "            i += 1\n",
    "            counter +=  1\n",
    "        chunk.to_csv(year + '_3_deletesamezone.csv', mode = 'a', header = header, index = False)\n",
    "        header = False"
   ]
  },
  {
   "cell_type": "code",
   "execution_count": null,
   "metadata": {},
   "outputs": [],
   "source": []
  }
 ],
 "metadata": {
  "kernelspec": {
   "display_name": "Python 3",
   "language": "python",
   "name": "python3"
  },
  "language_info": {
   "codemirror_mode": {
    "name": "ipython",
    "version": 3
   },
   "file_extension": ".py",
   "mimetype": "text/x-python",
   "name": "python",
   "nbconvert_exporter": "python",
   "pygments_lexer": "ipython3",
   "version": "3.8.5"
  }
 },
 "nbformat": 4,
 "nbformat_minor": 4
}
