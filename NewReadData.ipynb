{
 "cells": [
  {
   "cell_type": "code",
   "execution_count": null,
   "metadata": {
    "scrolled": true
   },
   "outputs": [],
   "source": [
    "# Main editing\n",
    "\n",
    "import pandas as pd\n",
    "from datetime import datetime\n",
    "chunksize = 10000\n",
    "i = 0\n",
    "\n",
    "for chunk in pd.read_csv('yellow_tripdata_2015-01-06.csv', chunksize = chunksize):\n",
    "    counter = 0\n",
    "    \n",
    "    #Get duration of trip\n",
    "    \"\"\"\"\n",
    "    while (counter < chunksize):\n",
    "        if chunk['tpep_pickup_datetime'][i]:\n",
    "            string_pickup = chunk['tpep_pickup_datetime'][i]\n",
    "            datetime_pickup = datetime.strptime(string_pickup,'%Y-%m-%d %H:%M:%S')\n",
    "            string_dropoff = chunk['tpep_dropoff_datetime'][i]\n",
    "            datetime_dropoff = datetime.strptime(string_dropoff,'%Y-%m-%d %H:%M:%S')\n",
    "            difference = datetime_dropoff - datetime_pickup\n",
    "            print(string_pickup, string_dropoff, 'Difference: ', difference)\n",
    "            i =  i + 1\n",
    "            counter = counter + 1\n",
    "            \n",
    "    \"\"\"\n",
    "    #drop vendorID, passenger_count, extra, payment_type, tip_amount, fare_amount \n",
    "    #chunk = chunk.drop(columns=['fare_amount'])\n",
    "    chunk.to_csv('short_tripdata.csv')\n",
    "    \n",
    "    print(chunk)\n",
    "    print('--------------------------------------------------------')"
   ]
  },
  {
   "cell_type": "code",
   "execution_count": null,
   "metadata": {},
   "outputs": [],
   "source": [
    "# Create shorter file\n",
    "import pandas as pd\n",
    "chunksize = 10000\n",
    "counter = 0\n",
    "for chunk in pd.read_csv('yellow_tripdata_2015-01-06.csv', chunksize = chunksize):\n",
    "    if (counter < 1):\n",
    "        chunk.to_csv('short_tripdata.csv')\n",
    "        counter = counter + 1\n",
    "    else:\n",
    "        break\n",
    "    print('--------------------------------------------------------')"
   ]
  },
  {
   "cell_type": "code",
   "execution_count": null,
   "metadata": {},
   "outputs": [],
   "source": [
    "# Combine Files\n",
    "\n",
    "import pandas as pd\n",
    "\n",
    "CHUNK_SIZE = 50000\n",
    "csv_file_list = [\"file1.csv\", \"file2.csv\", \"file3.csv\"]\n",
    "output_file = \"./result_merge/output.csv\"\n",
    "\n",
    "first_one = True\n",
    "for csv_file_name in csv_file_list:\n",
    "\n",
    "    if not first_one: # if it is not the first csv file then skip the header row (row 0) of that file\n",
    "        skip_row = [0]\n",
    "    else:\n",
    "        skip_row = []\n",
    "\n",
    "    chunk_container = pd.read_csv(csv_file_name, chunksize=CHUNK_SIZE, skiprows = skip_row)\n",
    "    for chunk in chunk_container:\n",
    "        chunk.to_csv(output_file, mode=\"a\", index=False)\n",
    "    first_one = False"
   ]
  }
 ],
 "metadata": {
  "kernelspec": {
   "display_name": "Python 3",
   "language": "python",
   "name": "python3"
  },
  "language_info": {
   "codemirror_mode": {
    "name": "ipython",
    "version": 3
   },
   "file_extension": ".py",
   "mimetype": "text/x-python",
   "name": "python",
   "nbconvert_exporter": "python",
   "pygments_lexer": "ipython3",
   "version": "3.8.5"
  }
 },
 "nbformat": 4,
 "nbformat_minor": 4
}
